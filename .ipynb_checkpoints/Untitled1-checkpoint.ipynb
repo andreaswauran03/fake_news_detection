{
 "cells": [
  {
   "cell_type": "code",
   "execution_count": 1,
   "id": "fb51ea0e-defa-4d9d-b368-d23f0ec2ee92",
   "metadata": {},
   "outputs": [],
   "source": [
    "import joblib\n",
    "import pandas as pd\n",
    "import re\n",
    "import string"
   ]
  },
  {
   "cell_type": "code",
   "execution_count": 2,
   "id": "e3080f31-1c5c-4580-b458-475d94ef604d",
   "metadata": {},
   "outputs": [],
   "source": [
    "# Create Filtering Text Function to remove unnecessery character in data\n",
    "def filtering_text(text):\n",
    "    text = text.lower()\n",
    "    text = re.sub('\\[.*?\\]', '', text) # Remove the characters inside the square brackets\n",
    "    text = re.sub('https?://\\S+|www\\.\\S+', \"\", text) # removes all URLs (both those starting with \"http\" or \"https\" and those starting with \"www\")\n",
    "    text = re.sub('<.*?>+', '', text) # removes all HTML tags (including tags that are HTML markup)\n",
    "    text = re.sub('\\n', \"\", text) # removes all newline characters\n",
    "    return text"
   ]
  },
  {
   "cell_type": "code",
   "execution_count": 3,
   "id": "a7f83068-4227-4a85-a383-c749158a38e9",
   "metadata": {},
   "outputs": [],
   "source": [
    "# Loaded Model\n",
    "lr = joblib.load(\"LogisticRegression().joblib\")\n",
    "dt = joblib.load(\"DecisionTreeClassifier().joblib\")\n",
    "rf = joblib.load(\"RandomForestClassifier().joblib\")\n",
    "tfidf = joblib.load(\"TfidfVectorizer(stop_words='english').joblib\")"
   ]
  },
  {
   "cell_type": "code",
   "execution_count": 6,
   "id": "e26ddd01-805c-4161-aa81-98c1b78f3f1c",
   "metadata": {},
   "outputs": [],
   "source": [
    "def output_label(output):\n",
    "    if output == 0:\n",
    "        return \"This is a Fake News\"\n",
    "    elif output == 1:\n",
    "        return \"This is a Not a Fake News\"\n",
    "\n",
    "def predict(news):\n",
    "    news_txt = {\"text\": [news]}\n",
    "    news_txt_df = pd.DataFrame(news_txt)\n",
    "    x_news_txt = news_txt_df[\"text\"].apply(filtering_text)\n",
    "    xv_news_txt = tfidf.transform(x_news_txt)\n",
    "    y_pred_lr = lr.predict(xv_news_txt)\n",
    "    y_pred_dt = dt.predict(xv_news_txt)\n",
    "    y_pred_rf = rf.predict(xv_news_txt)\n",
    "    return print(f\"Logistic Regression Prediction: {output_label(y_pred_lr)} \\n Decision Tree Prediction: {output_label(y_pred_dt)} \\n  Random Forest Prediction: {output_label(y_pred_rf)}\")    "
   ]
  },
  {
   "cell_type": "code",
   "execution_count": 8,
   "id": "853094cf-1101-471c-b303-9afbfc345504",
   "metadata": {},
   "outputs": [
    {
     "name": "stdin",
     "output_type": "stream",
     "text": [
      " Chinese tech giant Huawei has launched a five-year US$50 million budget to develop 500,000 information and communication technology (ICT) talents in the Asia Pacific region. Experts from the region convened on Wednesday at the 2021 Digital Talent Summit webinar, cohosted by the ASEAN Foundation and Huawei, to explore ways to step up developing digital talents as a huge shortage of skilled personnel continues. International consultant Korn Ferry estimated a shortage of 47 million tech talents by 2030 in the Asia Pacific region. PricewaterhouseCoopers (PwC) found in a survey that more than 50 percent of Asia Pacific CEOs say it is difficult to hire digital talent with the right skills. The challenges have also entered a new phase as the COVID-19 pandemic has disrupted the digital talent landscape in the Asia Pacific like never before, according to Huawei’s 2022 Digital Talent Insight. The world is in the midst of disruptions with emerging technologies such as 5G, cloud computing, big data, artificial intelligence (AI), the internet of things (IoT) and blockchain poised to dramatically reshape the digital economy. “We have gone beyond skill development [that can be learned] to seek ‘transformation leadership’ […] It’s all about the mindset […] of talents who think of customers first […] and who can take to the challenge the status quo,” Gokhan Ogut, CEO of Malaysia’s telecom firm Maxis, said at the webinar. Vu Minh Khuong from Singapore’s Lee Kuan Yew School of Public Policy said apart from the ability to “make a breakthrough”, new digital talents also needed to have the skills to foster synergy and even to transform the world with innovations. He coined a framework for step-up talents called Smart Model, with the S standing for strategy role, M for momentum building, A for the acquisition of knowledge, R for rethink and T for trust-building. Huawei’s Digital Talent Insight concurred that governments needed to lead the way and work closely with industries (demand) and academia (supply) in terms of planning and development of their local talent population The study grouped countries into three digital talent development categories: Frontrunner (Singapore, South Korea, Japan), Adopter (China, Malaysia, Thailand) and Starter (Indonesia, India, Vietnam, Philippines, Pakistan and Bangladesh). It found that the Adopter countries show a government’s initiatives and investment in digital development can differentiate the pace at which a country achieves its digitalization initiatives. However, the efforts are still insufficient as talent policies can aid younger generations but not mid-career converters, for example. Mohamed Djelid from UNESCO Asia Pacific echoed a parallel view from a recent World Economic Forum-Sea Co. survey of 80,000 people showing small and medium enterprises (SME) are more enthusiastic about the tech change and keen to advance the challenge than other groups. “It’s the state of mind,” he added. Syed Ismail Shah of International Telecommunication Union Southeast Asia said that for anxious workers, the reskilling of senior people is more about “mindset”. He called for more collaboration among ASEAN countries and seriousness in developing digital ecosystems so that the tools can be made widely available. Maxis’ Ogut said that while partnerships with academia are essential, his firm also used the merger and acquisition process to acquire talents from specialist small and medium-sized start-ups and digital service providers. Huawei is rolling out its new talent development program in four more countries to bring the total to eight in the Asia Pacific region, said Jay Chen, Huawei Asia Pacific’s vice president. Huawei also signed on Wednesday the Seeds for the Future cooperation with the ASEAN Foundation.\n"
     ]
    },
    {
     "name": "stdout",
     "output_type": "stream",
     "text": [
      "Logistic Regression Prediction: This is a Not a Fake News \n",
      " Decision Tree Prediction: This is a Fake News \n",
      "  Random Forest Prediction: This is a Not a Fake News\n"
     ]
    }
   ],
   "source": [
    "news = str(input())\n",
    "predict(news)"
   ]
  },
  {
   "cell_type": "code",
   "execution_count": null,
   "id": "438e4b52-c1d6-4a6b-b58f-60caa188212d",
   "metadata": {},
   "outputs": [],
   "source": []
  }
 ],
 "metadata": {
  "kernelspec": {
   "display_name": "Python 3 (ipykernel)",
   "language": "python",
   "name": "python3"
  },
  "language_info": {
   "codemirror_mode": {
    "name": "ipython",
    "version": 3
   },
   "file_extension": ".py",
   "mimetype": "text/x-python",
   "name": "python",
   "nbconvert_exporter": "python",
   "pygments_lexer": "ipython3",
   "version": "3.11.4"
  }
 },
 "nbformat": 4,
 "nbformat_minor": 5
}
